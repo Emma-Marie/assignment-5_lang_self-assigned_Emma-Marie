{
 "cells": [
  {
   "cell_type": "code",
   "execution_count": 52,
   "metadata": {},
   "outputs": [],
   "source": [
    "# load data\n",
    "import pandas as pd\n",
    "import openpyxl\n",
    "\n",
    "# system tools\n",
    "import os\n",
    "import sys\n",
    "sys.path.append(\"..\") # set to \".\" in py script\n",
    "\n",
    "# data munging tools\n",
    "import pandas as pd\n",
    "import utils.classifier_utils as clf\n",
    "\n",
    "# Machine learning stuff\n",
    "from sklearn.feature_extraction.text import CountVectorizer#, TfidfVectorizer\n",
    "from sklearn.linear_model import LogisticRegression\n",
    "from sklearn.neural_network import MLPClassifier\n",
    "from sklearn.model_selection import train_test_split, ShuffleSplit\n",
    "from sklearn import metrics\n",
    "\n",
    "# Visualisation (not nessecary?)\n",
    "import matplotlib.pyplot as plt\n",
    "\n",
    "# Shap values document classification\n",
    "import shap\n",
    "import tensorflow"
   ]
  },
  {
   "cell_type": "code",
   "execution_count": 6,
   "metadata": {},
   "outputs": [],
   "source": [
    "# load sermon data\n",
    "data = pd.read_csv(\"../../../768706/data/content.dat\", index_col=0)"
   ]
  },
  {
   "cell_type": "code",
   "execution_count": 7,
   "metadata": {},
   "outputs": [
    {
     "name": "stderr",
     "output_type": "stream",
     "text": [
      "Unknown extension is not supported and will be removed\n"
     ]
    }
   ],
   "source": [
    "# load metadata\n",
    "meta = pd.read_excel(\"../../../768706/metadata/Joined_Meta.xlsx\")"
   ]
  },
  {
   "cell_type": "code",
   "execution_count": 8,
   "metadata": {},
   "outputs": [],
   "source": [
    "# merge on document IDs\n",
    "full_data = data.merge(meta, left_on=\"id\", right_on=\"ID-dok\")"
   ]
  },
  {
   "cell_type": "code",
   "execution_count": 9,
   "metadata": {},
   "outputs": [
    {
     "data": {
      "text/html": [
       "<div>\n",
       "<style scoped>\n",
       "    .dataframe tbody tr th:only-of-type {\n",
       "        vertical-align: middle;\n",
       "    }\n",
       "\n",
       "    .dataframe tbody tr th {\n",
       "        vertical-align: top;\n",
       "    }\n",
       "\n",
       "    .dataframe thead th {\n",
       "        text-align: right;\n",
       "    }\n",
       "</style>\n",
       "<table border=\"1\" class=\"dataframe\">\n",
       "  <thead>\n",
       "    <tr style=\"text-align: right;\">\n",
       "      <th></th>\n",
       "      <th>id</th>\n",
       "      <th>content</th>\n",
       "      <th>ID-dok</th>\n",
       "      <th>ID-præst</th>\n",
       "      <th>dato</th>\n",
       "      <th>helligdag</th>\n",
       "      <th>sogn str.</th>\n",
       "      <th>stift</th>\n",
       "      <th>årgang</th>\n",
       "      <th>køn</th>\n",
       "      <th>uddannelsessted</th>\n",
       "      <th>comment</th>\n",
       "    </tr>\n",
       "  </thead>\n",
       "  <tbody>\n",
       "    <tr>\n",
       "      <th>0</th>\n",
       "      <td>pr10001_76</td>\n",
       "      <td>\\nHvilken blomst er den smukkeste i Verden?\\nD...</td>\n",
       "      <td>pr10001_76</td>\n",
       "      <td>76</td>\n",
       "      <td>151118</td>\n",
       "      <td>\\SÆR</td>\n",
       "      <td>11596/18101</td>\n",
       "      <td>Roskilde</td>\n",
       "      <td>1960</td>\n",
       "      <td>1</td>\n",
       "      <td>Aarhus</td>\n",
       "      <td>NaN</td>\n",
       "    </tr>\n",
       "    <tr>\n",
       "      <th>1</th>\n",
       "      <td>pr10002_76</td>\n",
       "      <td>\\nSådan lyder juleevangeliet - det glædelige b...</td>\n",
       "      <td>pr10002_76</td>\n",
       "      <td>76</td>\n",
       "      <td>151215</td>\n",
       "      <td>\\SÆR</td>\n",
       "      <td>11596/18101</td>\n",
       "      <td>Roskilde</td>\n",
       "      <td>1960</td>\n",
       "      <td>1</td>\n",
       "      <td>Aarhus</td>\n",
       "      <td>NaN</td>\n",
       "    </tr>\n",
       "    <tr>\n",
       "      <th>2</th>\n",
       "      <td>pr10003_76</td>\n",
       "      <td>\\nFørst at høre og så at gøre - det burde være...</td>\n",
       "      <td>pr10003_76</td>\n",
       "      <td>76</td>\n",
       "      <td>150902</td>\n",
       "      <td>\\SÆR</td>\n",
       "      <td>11596/18101</td>\n",
       "      <td>Roskilde</td>\n",
       "      <td>1960</td>\n",
       "      <td>1</td>\n",
       "      <td>Aarhus</td>\n",
       "      <td>NaN</td>\n",
       "    </tr>\n",
       "    <tr>\n",
       "      <th>3</th>\n",
       "      <td>pr10004_76</td>\n",
       "      <td>\\n“Ske din vilje, som i himlen, således også p...</td>\n",
       "      <td>pr10004_76</td>\n",
       "      <td>76</td>\n",
       "      <td>151007</td>\n",
       "      <td>\\SÆR</td>\n",
       "      <td>11596/18101</td>\n",
       "      <td>Roskilde</td>\n",
       "      <td>1960</td>\n",
       "      <td>1</td>\n",
       "      <td>Aarhus</td>\n",
       "      <td>NaN</td>\n",
       "    </tr>\n",
       "    <tr>\n",
       "      <th>4</th>\n",
       "      <td>pr10005_76</td>\n",
       "      <td>\\nVi har i dag lyttet til en opremsning af men...</td>\n",
       "      <td>pr10005_76</td>\n",
       "      <td>76</td>\n",
       "      <td>151101</td>\n",
       "      <td>AHelg_U\\SÆR</td>\n",
       "      <td>11596/18101</td>\n",
       "      <td>Roskilde</td>\n",
       "      <td>1960</td>\n",
       "      <td>1</td>\n",
       "      <td>Aarhus</td>\n",
       "      <td>NaN</td>\n",
       "    </tr>\n",
       "    <tr>\n",
       "      <th>...</th>\n",
       "      <td>...</td>\n",
       "      <td>...</td>\n",
       "      <td>...</td>\n",
       "      <td>...</td>\n",
       "      <td>...</td>\n",
       "      <td>...</td>\n",
       "      <td>...</td>\n",
       "      <td>...</td>\n",
       "      <td>...</td>\n",
       "      <td>...</td>\n",
       "      <td>...</td>\n",
       "      <td>...</td>\n",
       "    </tr>\n",
       "    <tr>\n",
       "      <th>11935</th>\n",
       "      <td>pr9995_76</td>\n",
       "      <td>\\nDet er en voldsom søndag at prædike på \\nog ...</td>\n",
       "      <td>pr9995_76</td>\n",
       "      <td>76</td>\n",
       "      <td>150920</td>\n",
       "      <td>16Trin_U</td>\n",
       "      <td>11596/18101</td>\n",
       "      <td>Roskilde</td>\n",
       "      <td>1960</td>\n",
       "      <td>1</td>\n",
       "      <td>Aarhus</td>\n",
       "      <td>NaN</td>\n",
       "    </tr>\n",
       "    <tr>\n",
       "      <th>11936</th>\n",
       "      <td>pr9996_76</td>\n",
       "      <td>\\nDet er da vist godt nok lidt af en overraske...</td>\n",
       "      <td>pr9996_76</td>\n",
       "      <td>76</td>\n",
       "      <td>151018</td>\n",
       "      <td>20Trin_U</td>\n",
       "      <td>11596/18101</td>\n",
       "      <td>Roskilde</td>\n",
       "      <td>1960</td>\n",
       "      <td>1</td>\n",
       "      <td>Aarhus</td>\n",
       "      <td>NaN</td>\n",
       "    </tr>\n",
       "    <tr>\n",
       "      <th>11937</th>\n",
       "      <td>pr9997_76</td>\n",
       "      <td>\\nHvad er det egentligt, der gør julen til nog...</td>\n",
       "      <td>pr9997_76</td>\n",
       "      <td>76</td>\n",
       "      <td>151224</td>\n",
       "      <td>Jul_L</td>\n",
       "      <td>11596/18101</td>\n",
       "      <td>Roskilde</td>\n",
       "      <td>1960</td>\n",
       "      <td>1</td>\n",
       "      <td>Aarhus</td>\n",
       "      <td>NaN</td>\n",
       "    </tr>\n",
       "    <tr>\n",
       "      <th>11938</th>\n",
       "      <td>pr9998_76</td>\n",
       "      <td>\\nDa jeg gik i 7. klasse på Rougsøskolen i Ørs...</td>\n",
       "      <td>pr9998_76</td>\n",
       "      <td>76</td>\n",
       "      <td>151025</td>\n",
       "      <td>21Trin_U</td>\n",
       "      <td>11596/18101</td>\n",
       "      <td>Roskilde</td>\n",
       "      <td>1960</td>\n",
       "      <td>1</td>\n",
       "      <td>Aarhus</td>\n",
       "      <td>NaN</td>\n",
       "    </tr>\n",
       "    <tr>\n",
       "      <th>11939</th>\n",
       "      <td>pr9999_76</td>\n",
       "      <td>\\nDet kan godt være svært at se de optimistisk...</td>\n",
       "      <td>pr9999_76</td>\n",
       "      <td>76</td>\n",
       "      <td>151122</td>\n",
       "      <td>Sidst_U</td>\n",
       "      <td>11596/18101</td>\n",
       "      <td>Roskilde</td>\n",
       "      <td>1960</td>\n",
       "      <td>1</td>\n",
       "      <td>Aarhus</td>\n",
       "      <td>NaN</td>\n",
       "    </tr>\n",
       "  </tbody>\n",
       "</table>\n",
       "<p>11940 rows × 12 columns</p>\n",
       "</div>"
      ],
      "text/plain": [
       "               id                                            content   \n",
       "0      pr10001_76  \\nHvilken blomst er den smukkeste i Verden?\\nD...  \\\n",
       "1      pr10002_76  \\nSådan lyder juleevangeliet - det glædelige b...   \n",
       "2      pr10003_76  \\nFørst at høre og så at gøre - det burde være...   \n",
       "3      pr10004_76  \\n“Ske din vilje, som i himlen, således også p...   \n",
       "4      pr10005_76  \\nVi har i dag lyttet til en opremsning af men...   \n",
       "...           ...                                                ...   \n",
       "11935   pr9995_76  \\nDet er en voldsom søndag at prædike på \\nog ...   \n",
       "11936   pr9996_76  \\nDet er da vist godt nok lidt af en overraske...   \n",
       "11937   pr9997_76  \\nHvad er det egentligt, der gør julen til nog...   \n",
       "11938   pr9998_76  \\nDa jeg gik i 7. klasse på Rougsøskolen i Ørs...   \n",
       "11939   pr9999_76  \\nDet kan godt være svært at se de optimistisk...   \n",
       "\n",
       "           ID-dok  ID-præst    dato    helligdag    sogn str.     stift   \n",
       "0      pr10001_76        76  151118         \\SÆR  11596/18101  Roskilde  \\\n",
       "1      pr10002_76        76  151215         \\SÆR  11596/18101  Roskilde   \n",
       "2      pr10003_76        76  150902         \\SÆR  11596/18101  Roskilde   \n",
       "3      pr10004_76        76  151007         \\SÆR  11596/18101  Roskilde   \n",
       "4      pr10005_76        76  151101  AHelg_U\\SÆR  11596/18101  Roskilde   \n",
       "...           ...       ...     ...          ...          ...       ...   \n",
       "11935   pr9995_76        76  150920     16Trin_U  11596/18101  Roskilde   \n",
       "11936   pr9996_76        76  151018     20Trin_U  11596/18101  Roskilde   \n",
       "11937   pr9997_76        76  151224        Jul_L  11596/18101  Roskilde   \n",
       "11938   pr9998_76        76  151025     21Trin_U  11596/18101  Roskilde   \n",
       "11939   pr9999_76        76  151122      Sidst_U  11596/18101  Roskilde   \n",
       "\n",
       "       årgang  køn uddannelsessted comment  \n",
       "0        1960    1          Aarhus     NaN  \n",
       "1        1960    1          Aarhus     NaN  \n",
       "2        1960    1          Aarhus     NaN  \n",
       "3        1960    1          Aarhus     NaN  \n",
       "4        1960    1          Aarhus     NaN  \n",
       "...       ...  ...             ...     ...  \n",
       "11935    1960    1          Aarhus     NaN  \n",
       "11936    1960    1          Aarhus     NaN  \n",
       "11937    1960    1          Aarhus     NaN  \n",
       "11938    1960    1          Aarhus     NaN  \n",
       "11939    1960    1          Aarhus     NaN  \n",
       "\n",
       "[11940 rows x 12 columns]"
      ]
     },
     "execution_count": 9,
     "metadata": {},
     "output_type": "execute_result"
    }
   ],
   "source": [
    "# look at the data\n",
    "full_data"
   ]
  },
  {
   "cell_type": "markdown",
   "metadata": {},
   "source": [
    "__Simple classification with scikit-learn as in nb sesssion 5__"
   ]
  },
  {
   "cell_type": "code",
   "execution_count": 10,
   "metadata": {},
   "outputs": [],
   "source": [
    "X = full_data[\"content\"]\n",
    "y = full_data[\"køn\"]"
   ]
  },
  {
   "cell_type": "code",
   "execution_count": 11,
   "metadata": {},
   "outputs": [],
   "source": [
    "labels = [\"male\", \"female\"]"
   ]
  },
  {
   "cell_type": "code",
   "execution_count": 12,
   "metadata": {},
   "outputs": [],
   "source": [
    "# train-test split\n",
    "X_train, X_test, y_train, y_test = train_test_split(X,           # texts for the model\n",
    "                                                    y,          # classification labels\n",
    "                                                    test_size=0.2,   # create an 80/20 split\n",
    "                                                    random_state=42) # random state for reproducibility"
   ]
  },
  {
   "cell_type": "code",
   "execution_count": 58,
   "metadata": {},
   "outputs": [],
   "source": [
    "# create vectorizer object using a bag-of-words model\n",
    "vectorizer = CountVectorizer(ngram_range = (1,2),     # unigrams and bigrams (1 word (e.g. York) and 2 word (e.g. New York) units)\n",
    "                             lowercase =  True,       # make everything lower case\n",
    "                             max_df = 0.95,           # remove very common words\n",
    "                             min_df = 0.05,           # remove very rare words\n",
    "                             max_features = 500)      # keep only top 500 features (or 100?)"
   ]
  },
  {
   "cell_type": "code",
   "execution_count": 59,
   "metadata": {},
   "outputs": [],
   "source": [
    "# fit vectorizer to training data\n",
    "X_train_feats = vectorizer.fit_transform(X_train)\n",
    "\n",
    "# transform test data\n",
    "X_test_feats = vectorizer.transform(X_test)\n",
    "\n",
    "# get feature names (nessecary?)\n",
    "feature_names = vectorizer.get_feature_names_out()"
   ]
  },
  {
   "cell_type": "code",
   "execution_count": 60,
   "metadata": {},
   "outputs": [
    {
     "data": {
      "text/plain": [
       "array(['af at', 'af de', 'af den', 'af det', 'af en', 'af os', 'al',\n",
       "       'aldrig', 'alene', 'alle', 'allerede', 'alligevel', 'alt',\n",
       "       'alt det', 'altid', 'altså', 'amen', 'anden', 'andet', 'andre',\n",
       "       'at blive', 'at de', 'at den', 'at der', 'at det', 'at få',\n",
       "       'at give', 'at gud', 'at gå', 'at gøre', 'at han', 'at have',\n",
       "       'at jeg', 'at jesus', 'at komme', 'at leve', 'at man', 'at se',\n",
       "       'at sige', 'at tage', 'at vi', 'at være', 'bare', 'barn', 'beder',\n",
       "       'bedre', 'betyder', 'billede', 'blev', 'blevet', 'blive', 'bliver',\n",
       "       'blot', 'brug', 'brug for', 'brød', 'budskab', 'både', 'bøn',\n",
       "       'børn', 'da', 'da han', 'dag', 'dage', 'dagens', 'de andre',\n",
       "       'de er', 'del', 'del af', 'dem', 'dem der', 'den anden', 'den der',\n",
       "       'den er', 'denne', 'der er', 'der har', 'der ikke', 'der kan',\n",
       "       'der skal', 'der var', 'deres', 'derfor', 'det at', 'det der',\n",
       "       'det hele', 'det ikke', 'det kan', 'det og', 'det samme',\n",
       "       'det som', 'det så', 'det var', 'det vi', 'dette', 'dig', 'din',\n",
       "       'disciple', 'disciplene', 'disse', 'dit', 'dog', 'du', 'dér',\n",
       "       'død', 'døde', 'døden', 'efter', 'egen', 'egentlig', 'eget',\n",
       "       'eller', 'ellers', 'elske', 'elsker', 'en af', 'en anden', 'end',\n",
       "       'endnu', 'ene', 'eneste', 'engang', 'er at', 'er blevet', 'er den',\n",
       "       'er der', 'er det', 'er en', 'er et', 'er guds', 'er ikke',\n",
       "       'er jo', 'er noget', 'er også', 'er så', 'er vi', 'et menneske',\n",
       "       'evangeliet', 'faktisk', 'fald', 'far', 'fast', 'fik', 'finde',\n",
       "       'findes', 'flere', 'folk', 'for at', 'for de', 'for den',\n",
       "       'for det', 'for en', 'for os', 'fordi', 'forhold', 'forstå',\n",
       "       'fortæller', 'fra', 'fred', 'frem', 'få', 'fået', 'får',\n",
       "       'fællesskab', 'før', 'først', 'første', 'gamle', 'gang', 'gange',\n",
       "       'ganske', 'gav', 'gennem', 'gerne', 'gik', 'give', 'giver',\n",
       "       'givet', 'gjorde', 'gjort', 'glæde', 'god', 'gode', 'godt', 'gud',\n",
       "       'gud er', 'gud og', 'guds', 'guds rige', 'gå', 'går', 'gør',\n",
       "       'gøre', 'ham', 'ham og', 'han er', 'han har', 'han ikke',\n",
       "       'han var', 'handler', 'handler om', 'hans', 'har vi', 'havde',\n",
       "       'have', 'hele', 'heller', 'heller ikke', 'helt', 'hen', 'hende',\n",
       "       'hendes', 'her', 'himlen', 'hinanden', 'historie', 'historien',\n",
       "       'hjem', 'hjerte', 'hjælp', 'holde', 'holder', 'hos', 'hun', 'hvad',\n",
       "       'hvad der', 'hvem', 'hver', 'hvert', 'hvis', 'hvis vi', 'hvor',\n",
       "       'hvor vi', 'hvordan', 'hvorfor', 'håb', 'høre', 'hører', 'igen',\n",
       "       'igennem', 'ikke at', 'ikke bare', 'ikke er', 'ikke kan',\n",
       "       'ikke noget', 'imod', 'ind', 'ingen', 'intet', 'ja', 'jeg',\n",
       "       'jeg er', 'jeg har', 'jer', 'jesu', 'jesus', 'jesus er',\n",
       "       'jesus og', 'jo', 'johannes', 'jorden', 'kalder', 'kan ikke',\n",
       "       'kan man', 'kan vi', 'kan være', 'kender', 'kirke', 'kirken',\n",
       "       'kom', 'komme', 'kommer', 'kommer til', 'kommet', 'kristne',\n",
       "       'kristus', 'kun', 'kunne', 'kærlighed', 'kærligheden', 'lad',\n",
       "       'lade', 'lader', 'langt', 'leve', 'levende', 'lever', 'lidt',\n",
       "       'lige', 'ligesom', 'ligger', 'lille', 'liv', 'liv og', 'livet',\n",
       "       'livets', 'lov', 'lyder', 'lys', 'lyset', 'længere', 'magt', 'man',\n",
       "       'man ikke', 'man kan', 'mand', 'mange', 'maria', 'med at',\n",
       "       'med den', 'med det', 'med en', 'med os', 'meget', 'mellem',\n",
       "       'men det', 'men vi', 'mening', 'menneske', 'mennesker', 'mens',\n",
       "       'mere', 'mest', 'midt', 'mig', 'min', 'mit', 'mod', 'må', 'måde',\n",
       "       'måske', 'måtte', 'møde', 'møder', 'navn', 'ned', 'nej', 'nemlig',\n",
       "       'netop', 'nogen', 'noget', 'noget der', 'nogle', 'nok', 'nu', 'ny',\n",
       "       'nye', 'nyt', 'når det', 'når man', 'når vi', 'næste', 'næsten',\n",
       "       'ofte', 'og at', 'og de', 'og den', 'og det', 'og en', 'og han',\n",
       "       'og ikke', 'og jeg', 'og som', 'og så', 'og vi', 'om at', 'om den',\n",
       "       'om det', 'omkring', 'op', 'opstandelse', 'ord', 'os at', 'os og',\n",
       "       'os selv', 'os til', 'over', 'peter', 'plads', 'på at', 'på den',\n",
       "       'på det', 'på en', 'på et', 'ret', 'rige', 'rundt', 'sagde',\n",
       "       'sagt', 'samme', 'sammen', 'sammen med', 'se', 'selv og', 'selvom',\n",
       "       'ser', 'set', 'sidder', 'side', 'siden', 'sidste', 'sig selv',\n",
       "       'sig til', 'sige', 'sige at', 'siger', 'sin', 'sine', 'sit',\n",
       "       'skal vi', 'skal være', 'sker', 'skulle', 'skyld', 'slet',\n",
       "       'slet ikke', 'små', 'som de', 'som den', 'som det', 'som en',\n",
       "       'som er', 'som et', 'som han', 'som vi', 'spørgsmål', 'stadig',\n",
       "       'sted', 'stedet', 'stor', 'store', 'stå', 'står', 'større',\n",
       "       'svært', 'synes', 'så er', 'så kan', 'så meget', 'så vi', 'sådan',\n",
       "       'sætte', 'sætter', 'søn', 'tage', 'tager', 'taget', 'tale',\n",
       "       'taler', 'tid', 'tiden', 'til den', 'til det', 'til en', 'til gud',\n",
       "       'til os', 'tilbage', 'ting', 'to', 'tre', 'tro', 'tro på', 'troen',\n",
       "       'tror', 'tænke', 'tænker', 'ud', 'ud af', 'uden', 'under', 'var',\n",
       "       'var det', 'ved at', 'vej', 'vejen', 'vel', 'verden', 'verdens',\n",
       "       'vi er', 'vi har', 'vi ikke', 'vi kan', 'vi skal', 'vide',\n",
       "       'videre', 'vil', 'ville', 'virkelig', 'vise', 'viser', 'vor',\n",
       "       'vore', 'vores', 'vores liv', 'væk', 'været', 'ånd', 'år', 'én',\n",
       "       'øjne'], dtype=object)"
      ]
     },
     "execution_count": 60,
     "metadata": {},
     "output_type": "execute_result"
    }
   ],
   "source": [
    "feature_names"
   ]
  },
  {
   "cell_type": "code",
   "execution_count": 61,
   "metadata": {},
   "outputs": [],
   "source": [
    "classifier = MLPClassifier(activation = \"logistic\",\n",
    "                           hidden_layer_sizes = (30, 10), # number of notes in hidden layers \n",
    "                           max_iter=1000,\n",
    "                           random_state = 42)"
   ]
  },
  {
   "cell_type": "code",
   "execution_count": 62,
   "metadata": {},
   "outputs": [
    {
     "data": {
      "text/html": [
       "<style>#sk-container-id-3 {color: black;background-color: white;}#sk-container-id-3 pre{padding: 0;}#sk-container-id-3 div.sk-toggleable {background-color: white;}#sk-container-id-3 label.sk-toggleable__label {cursor: pointer;display: block;width: 100%;margin-bottom: 0;padding: 0.3em;box-sizing: border-box;text-align: center;}#sk-container-id-3 label.sk-toggleable__label-arrow:before {content: \"▸\";float: left;margin-right: 0.25em;color: #696969;}#sk-container-id-3 label.sk-toggleable__label-arrow:hover:before {color: black;}#sk-container-id-3 div.sk-estimator:hover label.sk-toggleable__label-arrow:before {color: black;}#sk-container-id-3 div.sk-toggleable__content {max-height: 0;max-width: 0;overflow: hidden;text-align: left;background-color: #f0f8ff;}#sk-container-id-3 div.sk-toggleable__content pre {margin: 0.2em;color: black;border-radius: 0.25em;background-color: #f0f8ff;}#sk-container-id-3 input.sk-toggleable__control:checked~div.sk-toggleable__content {max-height: 200px;max-width: 100%;overflow: auto;}#sk-container-id-3 input.sk-toggleable__control:checked~label.sk-toggleable__label-arrow:before {content: \"▾\";}#sk-container-id-3 div.sk-estimator input.sk-toggleable__control:checked~label.sk-toggleable__label {background-color: #d4ebff;}#sk-container-id-3 div.sk-label input.sk-toggleable__control:checked~label.sk-toggleable__label {background-color: #d4ebff;}#sk-container-id-3 input.sk-hidden--visually {border: 0;clip: rect(1px 1px 1px 1px);clip: rect(1px, 1px, 1px, 1px);height: 1px;margin: -1px;overflow: hidden;padding: 0;position: absolute;width: 1px;}#sk-container-id-3 div.sk-estimator {font-family: monospace;background-color: #f0f8ff;border: 1px dotted black;border-radius: 0.25em;box-sizing: border-box;margin-bottom: 0.5em;}#sk-container-id-3 div.sk-estimator:hover {background-color: #d4ebff;}#sk-container-id-3 div.sk-parallel-item::after {content: \"\";width: 100%;border-bottom: 1px solid gray;flex-grow: 1;}#sk-container-id-3 div.sk-label:hover label.sk-toggleable__label {background-color: #d4ebff;}#sk-container-id-3 div.sk-serial::before {content: \"\";position: absolute;border-left: 1px solid gray;box-sizing: border-box;top: 0;bottom: 0;left: 50%;z-index: 0;}#sk-container-id-3 div.sk-serial {display: flex;flex-direction: column;align-items: center;background-color: white;padding-right: 0.2em;padding-left: 0.2em;position: relative;}#sk-container-id-3 div.sk-item {position: relative;z-index: 1;}#sk-container-id-3 div.sk-parallel {display: flex;align-items: stretch;justify-content: center;background-color: white;position: relative;}#sk-container-id-3 div.sk-item::before, #sk-container-id-3 div.sk-parallel-item::before {content: \"\";position: absolute;border-left: 1px solid gray;box-sizing: border-box;top: 0;bottom: 0;left: 50%;z-index: -1;}#sk-container-id-3 div.sk-parallel-item {display: flex;flex-direction: column;z-index: 1;position: relative;background-color: white;}#sk-container-id-3 div.sk-parallel-item:first-child::after {align-self: flex-end;width: 50%;}#sk-container-id-3 div.sk-parallel-item:last-child::after {align-self: flex-start;width: 50%;}#sk-container-id-3 div.sk-parallel-item:only-child::after {width: 0;}#sk-container-id-3 div.sk-dashed-wrapped {border: 1px dashed gray;margin: 0 0.4em 0.5em 0.4em;box-sizing: border-box;padding-bottom: 0.4em;background-color: white;}#sk-container-id-3 div.sk-label label {font-family: monospace;font-weight: bold;display: inline-block;line-height: 1.2em;}#sk-container-id-3 div.sk-label-container {text-align: center;}#sk-container-id-3 div.sk-container {/* jupyter's `normalize.less` sets `[hidden] { display: none; }` but bootstrap.min.css set `[hidden] { display: none !important; }` so we also need the `!important` here to be able to override the default hidden behavior on the sphinx rendered scikit-learn.org. See: https://github.com/scikit-learn/scikit-learn/issues/21755 */display: inline-block !important;position: relative;}#sk-container-id-3 div.sk-text-repr-fallback {display: none;}</style><div id=\"sk-container-id-3\" class=\"sk-top-container\"><div class=\"sk-text-repr-fallback\"><pre>MLPClassifier(activation=&#x27;logistic&#x27;, hidden_layer_sizes=(30, 10), max_iter=1000,\n",
       "              random_state=42)</pre><b>In a Jupyter environment, please rerun this cell to show the HTML representation or trust the notebook. <br />On GitHub, the HTML representation is unable to render, please try loading this page with nbviewer.org.</b></div><div class=\"sk-container\" hidden><div class=\"sk-item\"><div class=\"sk-estimator sk-toggleable\"><input class=\"sk-toggleable__control sk-hidden--visually\" id=\"sk-estimator-id-3\" type=\"checkbox\" checked><label for=\"sk-estimator-id-3\" class=\"sk-toggleable__label sk-toggleable__label-arrow\">MLPClassifier</label><div class=\"sk-toggleable__content\"><pre>MLPClassifier(activation=&#x27;logistic&#x27;, hidden_layer_sizes=(30, 10), max_iter=1000,\n",
       "              random_state=42)</pre></div></div></div></div></div>"
      ],
      "text/plain": [
       "MLPClassifier(activation='logistic', hidden_layer_sizes=(30, 10), max_iter=1000,\n",
       "              random_state=42)"
      ]
     },
     "execution_count": 62,
     "metadata": {},
     "output_type": "execute_result"
    }
   ],
   "source": [
    "# fit data to the classifier\n",
    "classifier.fit(X_train_feats, y_train)"
   ]
  },
  {
   "cell_type": "code",
   "execution_count": 63,
   "metadata": {},
   "outputs": [],
   "source": [
    "# Get predictions\n",
    "y_pred = classifier.predict(X_test_feats)"
   ]
  },
  {
   "cell_type": "code",
   "execution_count": 64,
   "metadata": {},
   "outputs": [
    {
     "name": "stdout",
     "output_type": "stream",
     "text": [
      "[1 2 1 1 2 2 1 2 2 1 1 1 1 2 1 1 1 2 2 2]\n"
     ]
    }
   ],
   "source": [
    "# Print predictions\n",
    "print(y_pred[:20])"
   ]
  },
  {
   "cell_type": "code",
   "execution_count": 65,
   "metadata": {},
   "outputs": [
    {
     "data": {
      "text/plain": [
       "<sklearn.metrics._plot.confusion_matrix.ConfusionMatrixDisplay at 0x7f87c80b4340>"
      ]
     },
     "execution_count": 65,
     "metadata": {},
     "output_type": "execute_result"
    },
    {
     "data": {
      "image/png": "[encoded data removed]",
      "text/plain": [
       "<Figure size 640x480 with 2 Axes>"
      ]
     },
     "metadata": {},
     "output_type": "display_data"
    }
   ],
   "source": [
    "# Evaluation with confusion matrix \n",
    "metrics.ConfusionMatrixDisplay.from_estimator(classifier,           # the classifier name\n",
    "                                            X_train_feats,          \n",
    "                                            y_train,                # the training labels\n",
    "                                            cmap=plt.cm.Blues,      # make the colours prettier\n",
    "                                            labels=[1, 2])# the labels in your data arranged alphabetically"
   ]
  },
  {
   "cell_type": "code",
   "execution_count": 66,
   "metadata": {},
   "outputs": [
    {
     "name": "stdout",
     "output_type": "stream",
     "text": [
      "              precision    recall  f1-score   support\n",
      "\n",
      "        male       0.82      0.82      0.82      1336\n",
      "      female       0.77      0.77      0.77      1052\n",
      "\n",
      "    accuracy                           0.80      2388\n",
      "   macro avg       0.80      0.80      0.80      2388\n",
      "weighted avg       0.80      0.80      0.80      2388\n",
      "\n"
     ]
    }
   ],
   "source": [
    "# 30, 10\n",
    "# vec 95, 5\n",
    "classifier_metrics = metrics.classification_report(y_test, y_pred, target_names=labels )\n",
    "print(classifier_metrics)"
   ]
  },
  {
   "cell_type": "code",
   "execution_count": 21,
   "metadata": {},
   "outputs": [],
   "source": [
    "# 30, 5\n",
    "# vec 95, 5\n",
    "#classifier_metrics = metrics.classification_report(y_test, y_pred, target_names=labels )\n",
    "#print(classifier_metrics)"
   ]
  },
  {
   "cell_type": "code",
   "execution_count": 22,
   "metadata": {},
   "outputs": [],
   "source": [
    "# 40, 10\n",
    "# vec 95, 5\n",
    "#classifier_metrics = metrics.classification_report(y_test, y_pred, target_names=labels )\n",
    "#print(classifier_metrics)"
   ]
  },
  {
   "cell_type": "code",
   "execution_count": 23,
   "metadata": {},
   "outputs": [],
   "source": [
    "# 40, 10\n",
    "# vec 90, 10\n",
    "#classifier_metrics = metrics.classification_report(y_test, y_pred, target_names=labels )\n",
    "#print(classifier_metrics)"
   ]
  },
  {
   "cell_type": "code",
   "execution_count": 24,
   "metadata": {},
   "outputs": [],
   "source": [
    "# 100, 25\n",
    "# vec 95, 05\n",
    "#classifier_metrics = metrics.classification_report(y_test, y_pred, target_names=labels )\n",
    "#print(classifier_metrics)"
   ]
  },
  {
   "cell_type": "code",
   "execution_count": 25,
   "metadata": {},
   "outputs": [],
   "source": [
    "# 50, 20\n",
    "# vec 95, 05\n",
    "#classifier_metrics = metrics.classification_report(y_test, y_pred, target_names=labels )\n",
    "#print(classifier_metrics)"
   ]
  },
  {
   "cell_type": "markdown",
   "metadata": {},
   "source": [
    "From now on I code with the model 30, 10 (0.95, 0.05)"
   ]
  },
  {
   "cell_type": "code",
   "execution_count": 26,
   "metadata": {},
   "outputs": [
    {
     "data": {
      "text/plain": [
       "[<matplotlib.lines.Line2D at 0x7f87c9d464f0>]"
      ]
     },
     "execution_count": 26,
     "metadata": {},
     "output_type": "execute_result"
    },
    {
     "data": {
      "image/png": "[encoded data removed]",
      "text/plain": [
       "<Figure size 640x480 with 1 Axes>"
      ]
     },
     "metadata": {},
     "output_type": "display_data"
    }
   ],
   "source": [
    "plt.plot(classifier.loss_curve_)\n",
    "#the plot: we want a smooth and steep downward slope which ends at a plateau.\n",
    "#the x-axis if the number of times the model runs through the steps"
   ]
  },
  {
   "cell_type": "code",
   "execution_count": 27,
   "metadata": {},
   "outputs": [],
   "source": [
    "#Save classification report in \"out\"\n",
    "folder_path = os.path.join(\"..\", \"out\")\n",
    "file_name = \"classificationreport.txt\"\n",
    "file_path = os.path.join(folder_path, file_name)\n",
    "with open(file_path, \"w\") as f: #\"writing\" classifier report and saving it\n",
    "    f.write(classifier_metrics)"
   ]
  },
  {
   "cell_type": "code",
   "execution_count": null,
   "metadata": {},
   "outputs": [],
   "source": [
    "from joblib import dump, load\n",
    "# save classifier\n",
    "clf_outpath = os.path.join(\"..\", \"models\", \"sermon_gender_clf\") # remove .. when .py script\n",
    "dump(classifier, clf_outpath)\n",
    "# save vectorizer\n",
    "vec_outpath = os.path.join(\"..\", \"models\", \"bagofwords_vectorizer.joblib\")\n",
    "dump(vectorizer, vec_outpath)"
   ]
  },
  {
   "cell_type": "markdown",
   "metadata": {},
   "source": [
    "## Shap values document classification"
   ]
  },
  {
   "cell_type": "markdown",
   "metadata": {},
   "source": [
    "To avoid our model to be a \"black box\" model (a model were you don't know what is going on).\n",
    "\n",
    "\"Shap value helps us quantify feature’s contribution towards a prediction. Shap value closer to zero means the feature contributes little to the prediction whereas shap value away from zero indicates the feature contributes more\" (https://towardsdatascience.com/explaining-scikit-learn-models-with-shap-61daff21b12a)."
   ]
  },
  {
   "cell_type": "code",
   "execution_count": 69,
   "metadata": {},
   "outputs": [
    {
     "ename": "TypeError",
     "evalue": "The passed model is not callable and cannot be analyzed directly with the given masker! Model: MLPClassifier(activation='logistic', hidden_layer_sizes=(30, 10), max_iter=1000,\n              random_state=42)",
     "output_type": "error",
     "traceback": [
      "\u001b[0;31m---------------------------------------------------------------------------\u001b[0m",
      "\u001b[0;31mTypeError\u001b[0m                                 Traceback (most recent call last)",
      "Cell \u001b[0;32mIn[69], line 2\u001b[0m\n\u001b[1;32m      1\u001b[0m \u001b[39m#doesn't work\u001b[39;00m\n\u001b[0;32m----> 2\u001b[0m explainer \u001b[39m=\u001b[39m shap\u001b[39m.\u001b[39;49mExplainer(classifier)\n\u001b[1;32m      3\u001b[0m shap_test \u001b[39m=\u001b[39m explainer(X_test_feats)\n\u001b[1;32m      4\u001b[0m \u001b[39mprint\u001b[39m(\u001b[39mf\u001b[39m\u001b[39m\"\u001b[39m\u001b[39mLength of shap_test: \u001b[39m\u001b[39m{\u001b[39;00m\u001b[39mlen\u001b[39m(shap_test)\u001b[39m}\u001b[39;00m\u001b[39m\\n\u001b[39;00m\u001b[39m\"\u001b[39m)\n",
      "File \u001b[0;32m~/.local/lib/python3.9/site-packages/shap/explainers/_explainer.py:173\u001b[0m, in \u001b[0;36mExplainer.__init__\u001b[0;34m(self, model, masker, link, algorithm, output_names, feature_names, linearize_link, seed, **kwargs)\u001b[0m\n\u001b[1;32m    169\u001b[0m             algorithm \u001b[39m=\u001b[39m \u001b[39m\"\u001b[39m\u001b[39mpermutation\u001b[39m\u001b[39m\"\u001b[39m\n\u001b[1;32m    171\u001b[0m     \u001b[39m# if we get here then we don't know how to handle what was given to us\u001b[39;00m\n\u001b[1;32m    172\u001b[0m     \u001b[39melse\u001b[39;00m:\n\u001b[0;32m--> 173\u001b[0m         \u001b[39mraise\u001b[39;00m \u001b[39mTypeError\u001b[39;00m(\u001b[39m\"\u001b[39m\u001b[39mThe passed model is not callable and cannot be analyzed directly with the given masker! Model: \u001b[39m\u001b[39m\"\u001b[39m \u001b[39m+\u001b[39m \u001b[39mstr\u001b[39m(model))\n\u001b[1;32m    175\u001b[0m \u001b[39m# build the right subclass\u001b[39;00m\n\u001b[1;32m    176\u001b[0m \u001b[39mif\u001b[39;00m algorithm \u001b[39m==\u001b[39m \u001b[39m\"\u001b[39m\u001b[39mexact\u001b[39m\u001b[39m\"\u001b[39m:\n",
      "\u001b[0;31mTypeError\u001b[0m: The passed model is not callable and cannot be analyzed directly with the given masker! Model: MLPClassifier(activation='logistic', hidden_layer_sizes=(30, 10), max_iter=1000,\n              random_state=42)"
     ]
    }
   ],
   "source": [
    "#doesn't work\n",
    "explainer = shap.Explainer(classifier)\n",
    "shap_test = explainer(X_test_feats)\n",
    "print(f\"Length of shap_test: {len(shap_test)}\\n\")\n",
    "print(f\"Sample shap_test:\\n{shap_test[0]}\")"
   ]
  },
  {
   "cell_type": "code",
   "execution_count": 49,
   "metadata": {},
   "outputs": [
    {
     "name": "stderr",
     "output_type": "stream",
     "text": [
      "keras is no longer supported, please use tf.keras instead.\n",
      "Your TensorFlow version is newer than 2.4.0 and so graph support has been removed in eager mode and some static graphs may not be supported. See PR #1483 for discussion.\n"
     ]
    },
    {
     "ename": "AssertionError",
     "evalue": "<class 'sklearn.neural_network._multilayer_perceptron.MLPClassifier'> is not currently a supported model type!",
     "output_type": "error",
     "traceback": [
      "\u001b[0;31m---------------------------------------------------------------------------\u001b[0m",
      "\u001b[0;31mAssertionError\u001b[0m                            Traceback (most recent call last)",
      "Cell \u001b[0;32mIn[49], line 2\u001b[0m\n\u001b[1;32m      1\u001b[0m attrib_data \u001b[39m=\u001b[39m X_train[:\u001b[39m200\u001b[39m]\n\u001b[0;32m----> 2\u001b[0m explainer \u001b[39m=\u001b[39m shap\u001b[39m.\u001b[39;49mDeepExplainer(classifier, attrib_data)\n\u001b[1;32m      3\u001b[0m num_explanations \u001b[39m=\u001b[39m \u001b[39m20\u001b[39m\n\u001b[1;32m      4\u001b[0m shap_vals \u001b[39m=\u001b[39m explainer\u001b[39m.\u001b[39mshap_values(X_test[:num_explanations])\n",
      "File \u001b[0;32m~/.local/lib/python3.9/site-packages/shap/explainers/_deep/__init__.py:84\u001b[0m, in \u001b[0;36mDeep.__init__\u001b[0;34m(self, model, data, session, learning_phase_flags)\u001b[0m\n\u001b[1;32m     81\u001b[0m         framework \u001b[39m=\u001b[39m \u001b[39m'\u001b[39m\u001b[39mtensorflow\u001b[39m\u001b[39m'\u001b[39m\n\u001b[1;32m     83\u001b[0m \u001b[39mif\u001b[39;00m framework \u001b[39m==\u001b[39m \u001b[39m'\u001b[39m\u001b[39mtensorflow\u001b[39m\u001b[39m'\u001b[39m:\n\u001b[0;32m---> 84\u001b[0m     \u001b[39mself\u001b[39m\u001b[39m.\u001b[39mexplainer \u001b[39m=\u001b[39m TFDeep(model, data, session, learning_phase_flags)\n\u001b[1;32m     85\u001b[0m \u001b[39melif\u001b[39;00m framework \u001b[39m==\u001b[39m \u001b[39m'\u001b[39m\u001b[39mpytorch\u001b[39m\u001b[39m'\u001b[39m:\n\u001b[1;32m     86\u001b[0m     \u001b[39mself\u001b[39m\u001b[39m.\u001b[39mexplainer \u001b[39m=\u001b[39m PyTorchDeep(model, data)\n",
      "File \u001b[0;32m~/.local/lib/python3.9/site-packages/shap/explainers/_deep/deep_tf.py:103\u001b[0m, in \u001b[0;36mTFDeep.__init__\u001b[0;34m(self, model, data, session, learning_phase_flags)\u001b[0m\n\u001b[1;32m    100\u001b[0m     warnings\u001b[39m.\u001b[39mwarn(\u001b[39m\"\u001b[39m\u001b[39mYour TensorFlow version is newer than 2.4.0 and so graph support has been removed in eager mode and some static graphs may not be supported. See PR #1483 for discussion.\u001b[39m\u001b[39m\"\u001b[39m)\n\u001b[1;32m    102\u001b[0m \u001b[39m# determine the model inputs and outputs\u001b[39;00m\n\u001b[0;32m--> 103\u001b[0m \u001b[39mself\u001b[39m\u001b[39m.\u001b[39mmodel_inputs \u001b[39m=\u001b[39m _get_model_inputs(model)\n\u001b[1;32m    104\u001b[0m \u001b[39mself\u001b[39m\u001b[39m.\u001b[39mmodel_output \u001b[39m=\u001b[39m _get_model_output(model)\n\u001b[1;32m    105\u001b[0m \u001b[39massert\u001b[39;00m \u001b[39mtype\u001b[39m(\u001b[39mself\u001b[39m\u001b[39m.\u001b[39mmodel_output) \u001b[39m!=\u001b[39m \u001b[39mlist\u001b[39m, \u001b[39m\"\u001b[39m\u001b[39mThe model output to be explained must be a single tensor!\u001b[39m\u001b[39m\"\u001b[39m\n",
      "File \u001b[0;32m~/.local/lib/python3.9/site-packages/shap/explainers/tf_utils.py:68\u001b[0m, in \u001b[0;36m_get_model_inputs\u001b[0;34m(model)\u001b[0m\n\u001b[1;32m     66\u001b[0m     \u001b[39mreturn\u001b[39;00m model[\u001b[39m0\u001b[39m]\n\u001b[1;32m     67\u001b[0m \u001b[39melse\u001b[39;00m:\n\u001b[0;32m---> 68\u001b[0m     \u001b[39massert\u001b[39;00m \u001b[39mFalse\u001b[39;00m, \u001b[39mstr\u001b[39m(\u001b[39mtype\u001b[39m(model)) \u001b[39m+\u001b[39m \u001b[39m\"\u001b[39m\u001b[39m is not currently a supported model type!\u001b[39m\u001b[39m\"\u001b[39m\n",
      "\u001b[0;31mAssertionError\u001b[0m: <class 'sklearn.neural_network._multilayer_perceptron.MLPClassifier'> is not currently a supported model type!"
     ]
    }
   ],
   "source": [
    "attrib_data = X_train[:200]\n",
    "explainer = shap.DeepExplainer(classifier, attrib_data)\n",
    "num_explanations = 20\n",
    "shap_vals = explainer.shap_values(X_test[:num_explanations])\n",
    "words = processor._tokenizer.word_index\n",
    "word_lookup = list()\n",
    "for i in words.keys():\n",
    "  word_lookup.append(i)\n",
    "word_lookup = [''] + word_lookup\n",
    "shap.summary_plot(shap_vals, feature_names=word_lookup, class_names=tag_encoder.classes_)"
   ]
  },
  {
   "cell_type": "code",
   "execution_count": 78,
   "metadata": {},
   "outputs": [
    {
     "name": "stderr",
     "output_type": "stream",
     "text": [
      "Using 9552 background data samples could cause slower run times. Consider using shap.sample(data, K) or shap.kmeans(data, K) to summarize the background as K samples.\n",
      "  0%|          | 0/2388 [00:00<?, ?it/s]"
     ]
    },
    {
     "ename": "",
     "evalue": "",
     "output_type": "error",
     "traceback": [
      "\u001b[1;31mCanceled future for execute_request message before replies were done"
     ]
    },
    {
     "ename": "",
     "evalue": "",
     "output_type": "error",
     "traceback": [
      "\u001b[1;31mThe Kernel crashed while executing code in the the current cell or a previous cell. Please review the code in the cell(s) to identify a possible cause of the failure. Click <a href='https://aka.ms/vscodeJupyterKernelCrash'>here</a> for more info. View Jupyter <a href='command:jupyter.viewOutput'>log</a> for further details."
     ]
    }
   ],
   "source": [
    "# explain all the predictions in the test set\n",
    "explainer = shap.KernelExplainer(classifier.predict, X_train_feats)\n",
    "shap_values = explainer.shap_values(X_test_feats)\n",
    "shap.summary_plot(shap_values, X_test_feats)"
   ]
  },
  {
   "cell_type": "code",
   "execution_count": 76,
   "metadata": {},
   "outputs": [
    {
     "name": "stdout",
     "output_type": "stream",
     "text": [
      "Provided model function fails when applied to the provided data set.\n"
     ]
    },
    {
     "ename": "TypeError",
     "evalue": "'MLPClassifier' object is not callable",
     "output_type": "error",
     "traceback": [
      "\u001b[0;31m---------------------------------------------------------------------------\u001b[0m",
      "\u001b[0;31mTypeError\u001b[0m                                 Traceback (most recent call last)",
      "Cell \u001b[0;32mIn[76], line 2\u001b[0m\n\u001b[1;32m      1\u001b[0m \u001b[39m#explainer = shap.KernelExplainer(classifier.predict_proba, X_train_feats)\u001b[39;00m\n\u001b[0;32m----> 2\u001b[0m explainer \u001b[39m=\u001b[39m shap\u001b[39m.\u001b[39;49mKernelExplainer(classifier, X_test_feats)\n\u001b[1;32m      3\u001b[0m shap_values \u001b[39m=\u001b[39m explainer\u001b[39m.\u001b[39mshap_values(X_test\u001b[39m.\u001b[39miloc[\u001b[39m0\u001b[39m,:])\n\u001b[1;32m      4\u001b[0m shap\u001b[39m.\u001b[39mforce_plot(explainer\u001b[39m.\u001b[39mexpected_value[\u001b[39m0\u001b[39m], shap_values[\u001b[39m0\u001b[39m], X_test\u001b[39m.\u001b[39miloc[\u001b[39m0\u001b[39m,:])\n",
      "File \u001b[0;32m~/.local/lib/python3.9/site-packages/shap/explainers/_kernel.py:70\u001b[0m, in \u001b[0;36mKernel.__init__\u001b[0;34m(self, model, data, link, **kwargs)\u001b[0m\n\u001b[1;32m     68\u001b[0m \u001b[39mself\u001b[39m\u001b[39m.\u001b[39mkeep_index_ordered \u001b[39m=\u001b[39m kwargs\u001b[39m.\u001b[39mget(\u001b[39m\"\u001b[39m\u001b[39mkeep_index_ordered\u001b[39m\u001b[39m\"\u001b[39m, \u001b[39mFalse\u001b[39;00m)\n\u001b[1;32m     69\u001b[0m \u001b[39mself\u001b[39m\u001b[39m.\u001b[39mdata \u001b[39m=\u001b[39m convert_to_data(data, keep_index\u001b[39m=\u001b[39m\u001b[39mself\u001b[39m\u001b[39m.\u001b[39mkeep_index)\n\u001b[0;32m---> 70\u001b[0m model_null \u001b[39m=\u001b[39m match_model_to_data(\u001b[39mself\u001b[39;49m\u001b[39m.\u001b[39;49mmodel, \u001b[39mself\u001b[39;49m\u001b[39m.\u001b[39;49mdata)\n\u001b[1;32m     72\u001b[0m \u001b[39m# enforce our current input type limitations\u001b[39;00m\n\u001b[1;32m     73\u001b[0m \u001b[39massert\u001b[39;00m \u001b[39misinstance\u001b[39m(\u001b[39mself\u001b[39m\u001b[39m.\u001b[39mdata, DenseData) \u001b[39mor\u001b[39;00m \u001b[39misinstance\u001b[39m(\u001b[39mself\u001b[39m\u001b[39m.\u001b[39mdata, SparseData), \\\n\u001b[1;32m     74\u001b[0m        \u001b[39m\"\u001b[39m\u001b[39mShap explainer only supports the DenseData and SparseData input currently.\u001b[39m\u001b[39m\"\u001b[39m\n",
      "File \u001b[0;32m~/.local/lib/python3.9/site-packages/shap/utils/_legacy.py:112\u001b[0m, in \u001b[0;36mmatch_model_to_data\u001b[0;34m(model, data)\u001b[0m\n\u001b[1;32m    110\u001b[0m         out_val \u001b[39m=\u001b[39m model\u001b[39m.\u001b[39mf(data\u001b[39m.\u001b[39mconvert_to_df())\n\u001b[1;32m    111\u001b[0m     \u001b[39melse\u001b[39;00m:\n\u001b[0;32m--> 112\u001b[0m         out_val \u001b[39m=\u001b[39m model\u001b[39m.\u001b[39;49mf(data\u001b[39m.\u001b[39;49mdata)\n\u001b[1;32m    113\u001b[0m \u001b[39mexcept\u001b[39;00m:\n\u001b[1;32m    114\u001b[0m     \u001b[39mprint\u001b[39m(\u001b[39m\"\u001b[39m\u001b[39mProvided model function fails when applied to the provided data set.\u001b[39m\u001b[39m\"\u001b[39m)\n",
      "\u001b[0;31mTypeError\u001b[0m: 'MLPClassifier' object is not callable"
     ]
    }
   ],
   "source": [
    "#explainer = shap.KernelExplainer(classifier.predict_proba, X_train_feats)\n",
    "explainer = shap.KernelExplainer(classifier, X_test_feats)\n",
    "shap_values = explainer.shap_values(X_test.iloc[0,:])\n",
    "shap.force_plot(explainer.expected_value[0], shap_values[0], X_test.iloc[0,:])"
   ]
  }
 ],
 "metadata": {
  "kernelspec": {
   "display_name": "Python 3",
   "language": "python",
   "name": "python3"
  },
  "language_info": {
   "codemirror_mode": {
    "name": "ipython",
    "version": 3
   },
   "file_extension": ".py",
   "mimetype": "text/x-python",
   "name": "python",
   "nbconvert_exporter": "python",
   "pygments_lexer": "ipython3",
   "version": "3.9.2"
  },
  "orig_nbformat": 4,
  "vscode": {
   "interpreter": {
    "hash": "767d51c1340bd893661ea55ea3124f6de3c7a262a8b4abca0554b478b1e2ff90"
   }
  }
 },
 "nbformat": 4,
 "nbformat_minor": 2
}
